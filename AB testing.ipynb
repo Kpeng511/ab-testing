{
 "cells": [
  {
   "cell_type": "markdown",
   "id": "0d3169b5",
   "metadata": {},
   "source": [
    "# A/B Testing\n",
    "by Kuanchieh Peng"
   ]
  },
  {
   "cell_type": "markdown",
   "id": "9ef21eae",
   "metadata": {},
   "source": [
    "## Problem Statement\n",
    "The goal is to verify an existing conversion hypthesis with A/B tests and regression analysis.\n",
    "## Brief\n",
    " - Calculate for p-value for A/B testing\n",
    " - Conduct Z-tests for A/B testing\n",
    " - Regression analysis\n",
    " - Multivariate regression"
   ]
  },
  {
   "cell_type": "markdown",
   "id": "c4804669",
   "metadata": {},
   "source": [
    "## Imports"
   ]
  },
  {
   "cell_type": "code",
   "execution_count": 113,
   "id": "7c20a4f0",
   "metadata": {},
   "outputs": [],
   "source": [
    "import pandas as pd\n",
    "import numpy as np\n",
    "import random\n",
    "import matplotlib.pyplot as plt\n",
    "import statsmodels.api as sm\n",
    "from statsmodels.stats.proportion import proportions_ztest\n",
    "%matplotlib inline"
   ]
  },
  {
   "cell_type": "code",
   "execution_count": 114,
   "id": "01e591ff",
   "metadata": {},
   "outputs": [],
   "source": [
    "df = pd.read_csv('conversion.csv')"
   ]
  },
  {
   "cell_type": "markdown",
   "id": "e135a006",
   "metadata": {},
   "source": [
    "## Data Assessment"
   ]
  },
  {
   "cell_type": "code",
   "execution_count": 115,
   "id": "d8d15fb4",
   "metadata": {},
   "outputs": [
    {
     "data": {
      "text/html": [
       "<div>\n",
       "<style scoped>\n",
       "    .dataframe tbody tr th:only-of-type {\n",
       "        vertical-align: middle;\n",
       "    }\n",
       "\n",
       "    .dataframe tbody tr th {\n",
       "        vertical-align: top;\n",
       "    }\n",
       "\n",
       "    .dataframe thead th {\n",
       "        text-align: right;\n",
       "    }\n",
       "</style>\n",
       "<table border=\"1\" class=\"dataframe\">\n",
       "  <thead>\n",
       "    <tr style=\"text-align: right;\">\n",
       "      <th></th>\n",
       "      <th>user_id</th>\n",
       "      <th>timestamp</th>\n",
       "      <th>group</th>\n",
       "      <th>landing_page</th>\n",
       "      <th>converted</th>\n",
       "    </tr>\n",
       "  </thead>\n",
       "  <tbody>\n",
       "    <tr>\n",
       "      <th>0</th>\n",
       "      <td>851104</td>\n",
       "      <td>2017-01-21 22:11:48.556739</td>\n",
       "      <td>control</td>\n",
       "      <td>old_page</td>\n",
       "      <td>0.0</td>\n",
       "    </tr>\n",
       "    <tr>\n",
       "      <th>1</th>\n",
       "      <td>804228</td>\n",
       "      <td>2017-01-12 08:01:45.159739</td>\n",
       "      <td>control</td>\n",
       "      <td>old_page</td>\n",
       "      <td>0.0</td>\n",
       "    </tr>\n",
       "    <tr>\n",
       "      <th>2</th>\n",
       "      <td>661590</td>\n",
       "      <td>2017-01-11 16:55:06.154213</td>\n",
       "      <td>treatment</td>\n",
       "      <td>new_page</td>\n",
       "      <td>0.0</td>\n",
       "    </tr>\n",
       "    <tr>\n",
       "      <th>3</th>\n",
       "      <td>853541</td>\n",
       "      <td>2017-01-08 18:28:03.143765</td>\n",
       "      <td>treatment</td>\n",
       "      <td>new_page</td>\n",
       "      <td>0.0</td>\n",
       "    </tr>\n",
       "    <tr>\n",
       "      <th>4</th>\n",
       "      <td>864975</td>\n",
       "      <td>2017-01-21 01:52:26.210827</td>\n",
       "      <td>control</td>\n",
       "      <td>old_page</td>\n",
       "      <td>1.0</td>\n",
       "    </tr>\n",
       "  </tbody>\n",
       "</table>\n",
       "</div>"
      ],
      "text/plain": [
       "   user_id                   timestamp      group landing_page  converted\n",
       "0   851104  2017-01-21 22:11:48.556739    control     old_page        0.0\n",
       "1   804228  2017-01-12 08:01:45.159739    control     old_page        0.0\n",
       "2   661590  2017-01-11 16:55:06.154213  treatment     new_page        0.0\n",
       "3   853541  2017-01-08 18:28:03.143765  treatment     new_page        0.0\n",
       "4   864975  2017-01-21 01:52:26.210827    control     old_page        1.0"
      ]
     },
     "execution_count": 115,
     "metadata": {},
     "output_type": "execute_result"
    }
   ],
   "source": [
    "df.head()"
   ]
  },
  {
   "cell_type": "code",
   "execution_count": 116,
   "id": "8e61eb8d",
   "metadata": {},
   "outputs": [
    {
     "data": {
      "text/plain": [
       "(116504, 5)"
      ]
     },
     "execution_count": 116,
     "metadata": {},
     "output_type": "execute_result"
    }
   ],
   "source": [
    "df.shape"
   ]
  },
  {
   "cell_type": "code",
   "execution_count": 117,
   "id": "43a35cc4",
   "metadata": {},
   "outputs": [],
   "source": [
    "df = df.dropna(subset = ['user_id', 'timestamp', 'group', 'landing_page'])\n",
    "df = df.fillna(0)"
   ]
  },
  {
   "cell_type": "code",
   "execution_count": 118,
   "id": "93b2a3bc",
   "metadata": {},
   "outputs": [],
   "source": [
    "control_converted = df[(df.group == \"control\") & (df.converted == 1)].shape[0] / df[df.group == \"control\"].shape[0]\n",
    "\n",
    "exp_converted = df[(df.group == \"treatment\") & (df.converted == 1)].shape[0] / df[df.group == \"treatment\"].shape[0]"
   ]
  },
  {
   "cell_type": "code",
   "execution_count": 119,
   "id": "45dfc8e1",
   "metadata": {},
   "outputs": [
    {
     "name": "stdout",
     "output_type": "stream",
     "text": [
      "Control conversion %:  11.993806984345433\n",
      "Experiment conversion %:  11.880492693539821\n"
     ]
    }
   ],
   "source": [
    "print(\"Control conversion %: \", control_converted * 100)\n",
    "print(\"Experiment conversion %: \", exp_converted * 100)"
   ]
  },
  {
   "cell_type": "markdown",
   "id": "e4087ffb",
   "metadata": {},
   "source": [
    "The experiment's conversion rate is 0.11% lower than the control's."
   ]
  },
  {
   "cell_type": "markdown",
   "id": "6c17c33a",
   "metadata": {},
   "source": [
    "## A/B Testing with p-value"
   ]
  },
  {
   "cell_type": "markdown",
   "id": "3b35d94c",
   "metadata": {},
   "source": [
    "Null Hypothesis: P𝑜𝑙𝑑 - P𝑛𝑒𝑤 = 0\n",
    "\n",
    "Alternative:     P𝑜𝑙𝑑 - P𝑛𝑒𝑤 != 0\n",
    "> 1. Find the observed difference\n",
    "> 2. Boostrap the sampling distribution to get the standard deviation\n",
    "> 3. Simulate the distribution centered under the null hypothesis\n",
    "> 4. Calculate for the p-value\n",
    "> 5. Determine the statistical significance of our observed difference"
   ]
  },
  {
   "cell_type": "markdown",
   "id": "d58482f2",
   "metadata": {},
   "source": [
    "**Finding observed difference**"
   ]
  },
  {
   "cell_type": "code",
   "execution_count": 120,
   "id": "661444a0",
   "metadata": {},
   "outputs": [
    {
     "data": {
      "text/plain": [
       "0.00113314290805612"
      ]
     },
     "execution_count": 120,
     "metadata": {},
     "output_type": "execute_result"
    }
   ],
   "source": [
    "observed_diff = control_converted - exp_converted\n",
    "observed_diff"
   ]
  },
  {
   "cell_type": "markdown",
   "id": "ef42d0fe",
   "metadata": {},
   "source": [
    "**Boostrapping the sample to get standard deviation**"
   ]
  },
  {
   "cell_type": "code",
   "execution_count": 121,
   "id": "5c6f6158",
   "metadata": {},
   "outputs": [],
   "source": [
    "sample_diff = []\n",
    "\n",
    "for i in range(10000):\n",
    "    sample = df.sample(200, replace = True)\n",
    "    control = sample.query('group == \"control\"')\n",
    "    control_cvr = control.query(\"converted == 1\").shape[0] / control.shape[0]\n",
    "    exp = sample.query('group == \"treatment\"')\n",
    "    exp_cvr = exp.query('converted == 1').shape[0] / exp.shape[0]\n",
    "    sample_diff.append(control_cvr - exp_cvr)"
   ]
  },
  {
   "cell_type": "code",
   "execution_count": 122,
   "id": "144c4cbe",
   "metadata": {},
   "outputs": [
    {
     "data": {
      "image/png": "[encoded data removed]",
      "text/plain": [
       "<Figure size 432x288 with 1 Axes>"
      ]
     },
     "metadata": {
      "needs_background": "light"
     },
     "output_type": "display_data"
    }
   ],
   "source": [
    "plt.hist(sample_diff)\n",
    "plt.show()"
   ]
  },
  {
   "cell_type": "code",
   "execution_count": 123,
   "id": "f431a04c",
   "metadata": {},
   "outputs": [
    {
     "data": {
      "text/plain": [
       "0.046051917115687235"
      ]
     },
     "execution_count": 123,
     "metadata": {},
     "output_type": "execute_result"
    }
   ],
   "source": [
    "std_sampling = np.std(sample_diff)\n",
    "std_sampling"
   ]
  },
  {
   "cell_type": "markdown",
   "id": "b377ce03",
   "metadata": {},
   "source": [
    "**Simulate the distribution centered under the null hypothesis**"
   ]
  },
  {
   "cell_type": "code",
   "execution_count": 124,
   "id": "743dd277",
   "metadata": {},
   "outputs": [
    {
     "data": {
      "image/png": "[encoded data removed]",
      "text/plain": [
       "<Figure size 432x288 with 1 Axes>"
      ]
     },
     "metadata": {
      "needs_background": "light"
     },
     "output_type": "display_data"
    }
   ],
   "source": [
    "null_vals = np.random.normal(0, std_sampling, len(sample_diff))\n",
    "plt.hist(null_vals);\n",
    "plt.axvline(x = observed_diff, color = 'red');\n",
    "plt.show()"
   ]
  },
  {
   "cell_type": "markdown",
   "id": "e54d478e",
   "metadata": {},
   "source": [
    "## A/B Testing with Z-test"
   ]
  },
  {
   "cell_type": "code",
   "execution_count": 125,
   "id": "186ddc8f",
   "metadata": {},
   "outputs": [],
   "source": [
    "convert_old = df.query('converted == 1 and landing_page == \"old_page\"').shape[0]\n",
    "convert_new = df.query('converted == 1 and landing_page == \"new_page\"').shape[0]\n",
    "n_old = df.query('landing_page == \"old_page\"').shape[0]\n",
    "n_new = df.query('landing_page == \"new_page\"').shape[0]"
   ]
  },
  {
   "cell_type": "code",
   "execution_count": 126,
   "id": "2181af7e",
   "metadata": {},
   "outputs": [
    {
     "data": {
      "text/plain": [
       "(6972, 6935, 58130, 58373)"
      ]
     },
     "execution_count": 126,
     "metadata": {},
     "output_type": "execute_result"
    }
   ],
   "source": [
    "convert_old, convert_new, n_old, n_new"
   ]
  },
  {
   "cell_type": "code",
   "execution_count": 127,
   "id": "0f2abfe0",
   "metadata": {},
   "outputs": [
    {
     "data": {
      "text/plain": [
       "(0.5964547012657413, 0.5508715068597727)"
      ]
     },
     "execution_count": 127,
     "metadata": {},
     "output_type": "execute_result"
    }
   ],
   "source": [
    "count = np.array([convert_old,convert_new])\n",
    "nobs = np.array([n_old, n_new])\n",
    "\n",
    "stat, pval = proportions_ztest(count, nobs)\n",
    "stat, pval"
   ]
  },
  {
   "cell_type": "markdown",
   "id": "32dc3176",
   "metadata": {},
   "source": [
    "The p value ~= 0.55, meaning we fail to reject the null hypothesis. We are confident that the control group and experiment group have similar results."
   ]
  },
  {
   "cell_type": "markdown",
   "id": "5f687dec",
   "metadata": {},
   "source": [
    "## Regression"
   ]
  },
  {
   "cell_type": "markdown",
   "id": "cf86d666",
   "metadata": {},
   "source": [
    "Apply logsitic regression since it is appropriate for predicting binary results.\n",
    "\n",
    "The goal is to use statsmodels to fit the logistic regression model to see if there is a significant difference in conversion based on which page a customer receives. However, we will have to first create a column for the intercept in df, and a dummy variable for the page each user received. Add an intercept column and an ab_page column, which yields 1 when a customer receives the treatment and 0 if else. "
   ]
  },
  {
   "cell_type": "code",
   "execution_count": 128,
   "id": "b665d46d",
   "metadata": {},
   "outputs": [
    {
     "name": "stdout",
     "output_type": "stream",
     "text": [
      "Optimization terminated successfully.\n",
      "         Current function value: 0.365667\n",
      "         Iterations 6\n"
     ]
    },
    {
     "data": {
      "text/html": [
       "<table class=\"simpletable\">\n",
       "<tr>\n",
       "        <td>Model:</td>              <td>Logit</td>      <td>Pseudo R-squared:</td>    <td>0.000</td>  \n",
       "</tr>\n",
       "<tr>\n",
       "  <td>Dependent Variable:</td>     <td>converted</td>          <td>AIC:</td>        <td>85206.6013</td>\n",
       "</tr>\n",
       "<tr>\n",
       "         <td>Date:</td>        <td>2022-04-08 20:39</td>       <td>BIC:</td>        <td>85225.9326</td>\n",
       "</tr>\n",
       "<tr>\n",
       "   <td>No. Observations:</td>       <td>116503</td>       <td>Log-Likelihood:</td>    <td>-42601.</td> \n",
       "</tr>\n",
       "<tr>\n",
       "       <td>Df Model:</td>              <td>1</td>            <td>LL-Null:</td>        <td>-42601.</td> \n",
       "</tr>\n",
       "<tr>\n",
       "     <td>Df Residuals:</td>         <td>116501</td>        <td>LLR p-value:</td>      <td>0.55087</td> \n",
       "</tr>\n",
       "<tr>\n",
       "      <td>Converged:</td>           <td>1.0000</td>           <td>Scale:</td>         <td>1.0000</td>  \n",
       "</tr>\n",
       "<tr>\n",
       "    <td>No. Iterations:</td>        <td>6.0000</td>              <td></td>               <td></td>     \n",
       "</tr>\n",
       "</table>\n",
       "<table class=\"simpletable\">\n",
       "<tr>\n",
       "      <td></td>       <th>Coef.</th>  <th>Std.Err.</th>     <th>z</th>      <th>P>|z|</th> <th>[0.025</th>  <th>0.975]</th> \n",
       "</tr>\n",
       "<tr>\n",
       "  <th>intercept</th> <td>-1.9930</td>  <td>0.0128</td>  <td>-156.1156</td> <td>0.0000</td> <td>-2.0180</td> <td>-1.9680</td>\n",
       "</tr>\n",
       "<tr>\n",
       "  <th>treatment</th> <td>-0.0108</td>  <td>0.0181</td>   <td>-0.5965</td>  <td>0.5509</td> <td>-0.0462</td> <td>0.0246</td> \n",
       "</tr>\n",
       "</table>"
      ],
      "text/plain": [
       "<class 'statsmodels.iolib.summary2.Summary'>\n",
       "\"\"\"\n",
       "                         Results: Logit\n",
       "=================================================================\n",
       "Model:              Logit            Pseudo R-squared: 0.000     \n",
       "Dependent Variable: converted        AIC:              85206.6013\n",
       "Date:               2022-04-08 20:39 BIC:              85225.9326\n",
       "No. Observations:   116503           Log-Likelihood:   -42601.   \n",
       "Df Model:           1                LL-Null:          -42601.   \n",
       "Df Residuals:       116501           LLR p-value:      0.55087   \n",
       "Converged:          1.0000           Scale:            1.0000    \n",
       "No. Iterations:     6.0000                                       \n",
       "------------------------------------------------------------------\n",
       "             Coef.   Std.Err.      z      P>|z|    [0.025   0.975]\n",
       "------------------------------------------------------------------\n",
       "intercept   -1.9930    0.0128  -156.1156  0.0000  -2.0180  -1.9680\n",
       "treatment   -0.0108    0.0181    -0.5965  0.5509  -0.0462   0.0246\n",
       "=================================================================\n",
       "\n",
       "\"\"\""
      ]
     },
     "execution_count": 128,
     "metadata": {},
     "output_type": "execute_result"
    }
   ],
   "source": [
    "df['intercept'] = 1\n",
    "df[['control', 'treatment']] = pd.get_dummies(df['group'])\n",
    "\n",
    "LR = sm.Logit(df['converted'], df[['intercept', 'treatment']])\n",
    " \n",
    "results = LR.fit()\n",
    "results.summary2()"
   ]
  },
  {
   "cell_type": "markdown",
   "id": "6a8cb49e",
   "metadata": {},
   "source": [
    "The p value associated with the treatment gorup ~= 0.55, meaning we fail to reject the null hypothesis."
   ]
  },
  {
   "cell_type": "markdown",
   "id": "0ed10e04",
   "metadata": {},
   "source": [
    "## Multivariate regression analysis\n",
    "Conduct multivariate regression analysis on whether the variable, country, affects conversion rates."
   ]
  },
  {
   "cell_type": "code",
   "execution_count": 138,
   "id": "518df7e8",
   "metadata": {},
   "outputs": [
    {
     "data": {
      "text/html": [
       "<div>\n",
       "<style scoped>\n",
       "    .dataframe tbody tr th:only-of-type {\n",
       "        vertical-align: middle;\n",
       "    }\n",
       "\n",
       "    .dataframe tbody tr th {\n",
       "        vertical-align: top;\n",
       "    }\n",
       "\n",
       "    .dataframe thead th {\n",
       "        text-align: right;\n",
       "    }\n",
       "</style>\n",
       "<table border=\"1\" class=\"dataframe\">\n",
       "  <thead>\n",
       "    <tr style=\"text-align: right;\">\n",
       "      <th></th>\n",
       "      <th>user_id</th>\n",
       "      <th>country</th>\n",
       "    </tr>\n",
       "  </thead>\n",
       "  <tbody>\n",
       "    <tr>\n",
       "      <th>0</th>\n",
       "      <td>834778</td>\n",
       "      <td>UK</td>\n",
       "    </tr>\n",
       "    <tr>\n",
       "      <th>1</th>\n",
       "      <td>928468</td>\n",
       "      <td>US</td>\n",
       "    </tr>\n",
       "    <tr>\n",
       "      <th>2</th>\n",
       "      <td>822059</td>\n",
       "      <td>UK</td>\n",
       "    </tr>\n",
       "    <tr>\n",
       "      <th>3</th>\n",
       "      <td>711597</td>\n",
       "      <td>UK</td>\n",
       "    </tr>\n",
       "    <tr>\n",
       "      <th>4</th>\n",
       "      <td>710616</td>\n",
       "      <td>UK</td>\n",
       "    </tr>\n",
       "  </tbody>\n",
       "</table>\n",
       "</div>"
      ],
      "text/plain": [
       "   user_id country\n",
       "0   834778      UK\n",
       "1   928468      US\n",
       "2   822059      UK\n",
       "3   711597      UK\n",
       "4   710616      UK"
      ]
     },
     "execution_count": 138,
     "metadata": {},
     "output_type": "execute_result"
    }
   ],
   "source": [
    "df2 = pd.read_csv('countries.csv')\n",
    "df2.head()"
   ]
  },
  {
   "cell_type": "code",
   "execution_count": 139,
   "id": "8fb9cde8",
   "metadata": {},
   "outputs": [
    {
     "data": {
      "text/html": [
       "<div>\n",
       "<style scoped>\n",
       "    .dataframe tbody tr th:only-of-type {\n",
       "        vertical-align: middle;\n",
       "    }\n",
       "\n",
       "    .dataframe tbody tr th {\n",
       "        vertical-align: top;\n",
       "    }\n",
       "\n",
       "    .dataframe thead th {\n",
       "        text-align: right;\n",
       "    }\n",
       "</style>\n",
       "<table border=\"1\" class=\"dataframe\">\n",
       "  <thead>\n",
       "    <tr style=\"text-align: right;\">\n",
       "      <th></th>\n",
       "      <th>user_id</th>\n",
       "      <th>timestamp</th>\n",
       "      <th>group</th>\n",
       "      <th>landing_page</th>\n",
       "      <th>converted</th>\n",
       "      <th>intercept</th>\n",
       "      <th>control</th>\n",
       "      <th>treatment</th>\n",
       "      <th>country</th>\n",
       "    </tr>\n",
       "  </thead>\n",
       "  <tbody>\n",
       "    <tr>\n",
       "      <th>0</th>\n",
       "      <td>851104</td>\n",
       "      <td>2017-01-21 22:11:48.556739</td>\n",
       "      <td>control</td>\n",
       "      <td>old_page</td>\n",
       "      <td>0.0</td>\n",
       "      <td>1</td>\n",
       "      <td>1</td>\n",
       "      <td>0</td>\n",
       "      <td>US</td>\n",
       "    </tr>\n",
       "    <tr>\n",
       "      <th>1</th>\n",
       "      <td>804228</td>\n",
       "      <td>2017-01-12 08:01:45.159739</td>\n",
       "      <td>control</td>\n",
       "      <td>old_page</td>\n",
       "      <td>0.0</td>\n",
       "      <td>1</td>\n",
       "      <td>1</td>\n",
       "      <td>0</td>\n",
       "      <td>US</td>\n",
       "    </tr>\n",
       "    <tr>\n",
       "      <th>2</th>\n",
       "      <td>661590</td>\n",
       "      <td>2017-01-11 16:55:06.154213</td>\n",
       "      <td>treatment</td>\n",
       "      <td>new_page</td>\n",
       "      <td>0.0</td>\n",
       "      <td>1</td>\n",
       "      <td>0</td>\n",
       "      <td>1</td>\n",
       "      <td>US</td>\n",
       "    </tr>\n",
       "    <tr>\n",
       "      <th>3</th>\n",
       "      <td>853541</td>\n",
       "      <td>2017-01-08 18:28:03.143765</td>\n",
       "      <td>treatment</td>\n",
       "      <td>new_page</td>\n",
       "      <td>0.0</td>\n",
       "      <td>1</td>\n",
       "      <td>0</td>\n",
       "      <td>1</td>\n",
       "      <td>US</td>\n",
       "    </tr>\n",
       "    <tr>\n",
       "      <th>4</th>\n",
       "      <td>864975</td>\n",
       "      <td>2017-01-21 01:52:26.210827</td>\n",
       "      <td>control</td>\n",
       "      <td>old_page</td>\n",
       "      <td>1.0</td>\n",
       "      <td>1</td>\n",
       "      <td>1</td>\n",
       "      <td>0</td>\n",
       "      <td>US</td>\n",
       "    </tr>\n",
       "  </tbody>\n",
       "</table>\n",
       "</div>"
      ],
      "text/plain": [
       "   user_id                   timestamp      group landing_page  converted  \\\n",
       "0   851104  2017-01-21 22:11:48.556739    control     old_page        0.0   \n",
       "1   804228  2017-01-12 08:01:45.159739    control     old_page        0.0   \n",
       "2   661590  2017-01-11 16:55:06.154213  treatment     new_page        0.0   \n",
       "3   853541  2017-01-08 18:28:03.143765  treatment     new_page        0.0   \n",
       "4   864975  2017-01-21 01:52:26.210827    control     old_page        1.0   \n",
       "\n",
       "   intercept  control  treatment country  \n",
       "0          1        1          0      US  \n",
       "1          1        1          0      US  \n",
       "2          1        0          1      US  \n",
       "3          1        0          1      US  \n",
       "4          1        1          0      US  "
      ]
     },
     "execution_count": 139,
     "metadata": {},
     "output_type": "execute_result"
    }
   ],
   "source": [
    "df2 = df.join(df2.set_index('user_id'), on = 'user_id')\n",
    "df2.head()"
   ]
  },
  {
   "cell_type": "code",
   "execution_count": 140,
   "id": "e70218db",
   "metadata": {},
   "outputs": [
    {
     "name": "stdout",
     "output_type": "stream",
     "text": [
      "Optimization terminated successfully.\n",
      "         Current function value: 0.365647\n",
      "         Iterations 6\n"
     ]
    },
    {
     "data": {
      "text/html": [
       "<table class=\"simpletable\">\n",
       "<tr>\n",
       "        <td>Model:</td>              <td>Logit</td>      <td>Pseudo R-squared:</td>    <td>0.000</td>  \n",
       "</tr>\n",
       "<tr>\n",
       "  <td>Dependent Variable:</td>     <td>converted</td>          <td>AIC:</td>        <td>85206.0500</td>\n",
       "</tr>\n",
       "<tr>\n",
       "         <td>Date:</td>        <td>2022-04-08 21:33</td>       <td>BIC:</td>        <td>85244.7127</td>\n",
       "</tr>\n",
       "<tr>\n",
       "   <td>No. Observations:</td>       <td>116503</td>       <td>Log-Likelihood:</td>    <td>-42599.</td> \n",
       "</tr>\n",
       "<tr>\n",
       "       <td>Df Model:</td>              <td>3</td>            <td>LL-Null:</td>        <td>-42601.</td> \n",
       "</tr>\n",
       "<tr>\n",
       "     <td>Df Residuals:</td>         <td>116499</td>        <td>LLR p-value:</td>      <td>0.17873</td> \n",
       "</tr>\n",
       "<tr>\n",
       "      <td>Converged:</td>           <td>1.0000</td>           <td>Scale:</td>         <td>1.0000</td>  \n",
       "</tr>\n",
       "<tr>\n",
       "    <td>No. Iterations:</td>        <td>6.0000</td>              <td></td>               <td></td>     \n",
       "</tr>\n",
       "</table>\n",
       "<table class=\"simpletable\">\n",
       "<tr>\n",
       "      <td></td>       <th>Coef.</th>  <th>Std.Err.</th>     <th>z</th>      <th>P>|z|</th> <th>[0.025</th>  <th>0.975]</th> \n",
       "</tr>\n",
       "<tr>\n",
       "  <th>intercept</th> <td>-2.0043</td>  <td>0.0141</td>  <td>-142.1201</td> <td>0.0000</td> <td>-2.0319</td> <td>-1.9767</td>\n",
       "</tr>\n",
       "<tr>\n",
       "  <th>treatment</th> <td>-0.0108</td>  <td>0.0181</td>   <td>-0.5982</td>  <td>0.5497</td> <td>-0.0462</td> <td>0.0246</td> \n",
       "</tr>\n",
       "<tr>\n",
       "  <th>CA</th>        <td>0.0012</td>   <td>0.0421</td>   <td>0.0296</td>   <td>0.9764</td> <td>-0.0812</td> <td>0.0837</td> \n",
       "</tr>\n",
       "<tr>\n",
       "  <th>UK</th>        <td>0.0443</td>   <td>0.0209</td>   <td>2.1237</td>   <td>0.0337</td> <td>0.0034</td>  <td>0.0853</td> \n",
       "</tr>\n",
       "</table>"
      ],
      "text/plain": [
       "<class 'statsmodels.iolib.summary2.Summary'>\n",
       "\"\"\"\n",
       "                         Results: Logit\n",
       "=================================================================\n",
       "Model:              Logit            Pseudo R-squared: 0.000     \n",
       "Dependent Variable: converted        AIC:              85206.0500\n",
       "Date:               2022-04-08 21:33 BIC:              85244.7127\n",
       "No. Observations:   116503           Log-Likelihood:   -42599.   \n",
       "Df Model:           3                LL-Null:          -42601.   \n",
       "Df Residuals:       116499           LLR p-value:      0.17873   \n",
       "Converged:          1.0000           Scale:            1.0000    \n",
       "No. Iterations:     6.0000                                       \n",
       "------------------------------------------------------------------\n",
       "             Coef.   Std.Err.      z      P>|z|    [0.025   0.975]\n",
       "------------------------------------------------------------------\n",
       "intercept   -2.0043    0.0141  -142.1201  0.0000  -2.0319  -1.9767\n",
       "treatment   -0.0108    0.0181    -0.5982  0.5497  -0.0462   0.0246\n",
       "CA           0.0012    0.0421     0.0296  0.9764  -0.0812   0.0837\n",
       "UK           0.0443    0.0209     2.1237  0.0337   0.0034   0.0853\n",
       "=================================================================\n",
       "\n",
       "\"\"\""
      ]
     },
     "execution_count": 140,
     "metadata": {},
     "output_type": "execute_result"
    }
   ],
   "source": [
    "df2[['CA', 'UK', 'US']] = pd.get_dummies(df2['country'])\n",
    "\n",
    "LR = sm.Logit(df2['converted'], df2[['intercept', 'treatment', 'CA', 'UK']])\n",
    "\n",
    "results = LR.fit()\n",
    "results.summary2()"
   ]
  },
  {
   "cell_type": "markdown",
   "id": "7997391d",
   "metadata": {},
   "source": [
    "Discovery: the variable country did have statistical significance in affecting conversion rates, since the p value associated with UK ~= 0.03."
   ]
  },
  {
   "cell_type": "code",
   "execution_count": null,
   "id": "ea7efac7",
   "metadata": {},
   "outputs": [],
   "source": []
  }
 ],
 "metadata": {
  "kernelspec": {
   "display_name": "Python 3 (ipykernel)",
   "language": "python",
   "name": "python3"
  },
  "language_info": {
   "codemirror_mode": {
    "name": "ipython",
    "version": 3
   },
   "file_extension": ".py",
   "mimetype": "text/x-python",
   "name": "python",
   "nbconvert_exporter": "python",
   "pygments_lexer": "ipython3",
   "version": "3.9.7"
  }
 },
 "nbformat": 4,
 "nbformat_minor": 5
}
